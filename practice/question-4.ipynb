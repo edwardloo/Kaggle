{
 "cells": [
  {
   "cell_type": "markdown",
   "id": "ad3ad0fa",
   "metadata": {
    "papermill": {
     "duration": 0.007892,
     "end_time": "2022-03-23T18:31:13.151722",
     "exception": false,
     "start_time": "2022-03-23T18:31:13.143830",
     "status": "completed"
    },
    "tags": []
   },
   "source": [
    "4)\tABC is an online advertisement firm, the management found adblocker used by the users is affecting the revenue. The firm has invested significantly to distribute custom adblock whitelists. Below is the table showing the number of sample adblock detected before the distribution of the first 3 months (12 weeks) and the next 3 months after the whitelist has been distributed. (Ideally use jupyter notebook)\n",
    "\n",
    "# Table 1: Before Distribution\n",
    "|Week | 1 | 2 | 3 | 4 | 5 | 6 | 7 | 8 | 9 | 10 | 11 | 12 |\n",
    "|-----|----|----|----|----|----|----|----|----|----|----|----|----|\n",
    "|Count| 3100 | 2800 | 1900 | 2400 | 3200 | 2700 | 1600 | 4100 | 2300 | 3200 | 2900 | 3300 |\n",
    "\n",
    "\n",
    "# Table 2: After Distribution\n",
    "|Week | 13 | 14 | 15 | 16 | 17 | 18 | 19 | 20 | 21 | 22 | 23 | 24 |\n",
    "|-----|----|----|----|----|----|----|----|----|----|----|----|----|\n",
    "|Count| 2300 | 2100 | 1900 | 2400 | 3500 | 1700 | 1800 | 2400 | 3300 | 2700 | 2100 | 2300 |\n",
    "\n",
    "a)\tConvert the above information into a numpy array and compute the average difference between the first table and the second table.\n",
    "\n",
    "b)\tCould the difference legit and not due to chance? Use a statistical approach to demonstrate your assumptions.\n",
    "\n",
    "c)\tBecause the firm already spent vast amounts of money, is the difference in the number of adblocker detected for the next 3 months statistically significant and worth the investment? You may provide your opinion here.\n",
    "\n",
    "d)\tWhat’s the confidence intervals of the average difference? You may use 90% or 95% percentile for confidence intervals, state this percentile in the solution.\n"
   ]
  },
  {
   "cell_type": "markdown",
   "id": "3a184143",
   "metadata": {
    "papermill": {
     "duration": 0.006493,
     "end_time": "2022-03-23T18:31:13.165507",
     "exception": false,
     "start_time": "2022-03-23T18:31:13.159014",
     "status": "completed"
    },
    "tags": []
   },
   "source": [
    "---\n",
    "# **ANSWER**\n",
    "\n",
    "---\n",
    "# a)\tConvert the above information into a numpy array and compute the average difference between the first table and the second table.\n",
    "\n"
   ]
  },
  {
   "cell_type": "code",
   "execution_count": 1,
   "id": "fe2f923d",
   "metadata": {
    "execution": {
     "iopub.execute_input": "2022-03-23T18:31:13.183413Z",
     "iopub.status.busy": "2022-03-23T18:31:13.182284Z",
     "iopub.status.idle": "2022-03-23T18:31:13.192801Z",
     "shell.execute_reply": "2022-03-23T18:31:13.193499Z",
     "shell.execute_reply.started": "2022-03-23T13:44:40.412328Z"
    },
    "papermill": {
     "duration": 0.021576,
     "end_time": "2022-03-23T18:31:13.193867",
     "exception": false,
     "start_time": "2022-03-23T18:31:13.172291",
     "status": "completed"
    },
    "tags": []
   },
   "outputs": [],
   "source": [
    "import numpy as np\n",
    "import pandas as pd\n",
    "\n",
    "before = np.array([3100,2800,1900,2400,3200,2700,1600,4100,2300,3200,2900,3300]) # table 1\n",
    "after = np.array([2300,2100,1900,2400,3500,1700,1800,2400,3300,2700,2100,2300]) # table 2"
   ]
  },
  {
   "cell_type": "code",
   "execution_count": 2,
   "id": "1b34f4bc",
   "metadata": {
    "execution": {
     "iopub.execute_input": "2022-03-23T18:31:13.215417Z",
     "iopub.status.busy": "2022-03-23T18:31:13.214432Z",
     "iopub.status.idle": "2022-03-23T18:31:13.218286Z",
     "shell.execute_reply": "2022-03-23T18:31:13.218776Z",
     "shell.execute_reply.started": "2022-03-23T13:45:07.129805Z"
    },
    "papermill": {
     "duration": 0.017445,
     "end_time": "2022-03-23T18:31:13.218937",
     "exception": false,
     "start_time": "2022-03-23T18:31:13.201492",
     "status": "completed"
    },
    "tags": []
   },
   "outputs": [
    {
     "name": "stdout",
     "output_type": "stream",
     "text": [
      "Average Difference Between The First Table and The Second Table: 416.67\n"
     ]
    }
   ],
   "source": [
    "# computing the average of 2 tables\n",
    "\n",
    "avg_before = np.average(before)\n",
    "avg_after = np.average(after)\n",
    "\n",
    "# print the difference as 2 decimal places\n",
    "print(\"Average Difference Between The First Table and The Second Table: \" + str(round(avg_before - avg_after,2)))"
   ]
  },
  {
   "cell_type": "markdown",
   "id": "ef56d1d7",
   "metadata": {
    "papermill": {
     "duration": 0.006955,
     "end_time": "2022-03-23T18:31:13.233554",
     "exception": false,
     "start_time": "2022-03-23T18:31:13.226599",
     "status": "completed"
    },
    "tags": []
   },
   "source": [
    "Average Difference Between The First Table and The Second Table: **416.67**\n",
    "\n",
    "---\n",
    "# b) Could the difference legit and not due to chance? Use a statistical approach to demonstrate your assumptions.\n",
    "\n",
    "\n",
    "To establish statistical significance we have to come up with a ***null hypothesis*** and an ***alternative hypothesis***. A ***null hypothesis*** is where the variable has no impact on our end result. The ***alternative hypothesis*** is where the variable does have an impact on the end result.\n",
    "\n",
    "For this problem, the null and alternative hypothesis are:\n",
    "\n",
    "* Null Hypothesis, $H_{0}$ : The average difference of sample adblock detected after the custom adblock whitelist distribution is the same as before distribution (i.e.: the average difference, mean = 0).\n",
    "\n",
    "* Alternative Hypothesis, $H_{1}$ : The average difference of sample adblock detected after the custom adblock whitelist distribution increases distribution (mean > 0).\n",
    "\n",
    "Approach:\n",
    "* Significance level of 0.05 (5%) is chosen as the common standard for hypothesis testings.\n",
    "* T-test (one-tailed)\n",
    "\n",
    "T-test (one-tailed) is chosen because:\n",
    "* The question is dealing with determining whether a solution has effect on the population of interest.\n",
    "* We are comparing the means of 2 groups.\n",
    "* The sample size, n is small (n < 30)\n",
    "* We are only concerned with the increase of average difference."
   ]
  },
  {
   "cell_type": "code",
   "execution_count": 3,
   "id": "d92d7c4e",
   "metadata": {
    "execution": {
     "iopub.execute_input": "2022-03-23T18:31:13.251295Z",
     "iopub.status.busy": "2022-03-23T18:31:13.250633Z",
     "iopub.status.idle": "2022-03-23T18:31:14.204715Z",
     "shell.execute_reply": "2022-03-23T18:31:14.205316Z",
     "shell.execute_reply.started": "2022-03-23T14:29:45.638366Z"
    },
    "papermill": {
     "duration": 0.964506,
     "end_time": "2022-03-23T18:31:14.205483",
     "exception": false,
     "start_time": "2022-03-23T18:31:13.240977",
     "status": "completed"
    },
    "tags": []
   },
   "outputs": [
    {
     "name": "stdout",
     "output_type": "stream",
     "text": [
      "2-tailed p-value= 0.08\n",
      "1-tailed p-value= 0.04\n"
     ]
    }
   ],
   "source": [
    "from scipy.stats import ttest_1samp\n",
    "stats,p_value = ttest_1samp(before - after, popmean = 0)\n",
    "print(\"2-tailed p-value= \" + str(round(p_value,2)))\n",
    "print(\"1-tailed p-value= \" + str(round(p_value/2,2)))"
   ]
  },
  {
   "cell_type": "markdown",
   "id": "c435c3de",
   "metadata": {
    "papermill": {
     "duration": 0.007711,
     "end_time": "2022-03-23T18:31:14.220912",
     "exception": false,
     "start_time": "2022-03-23T18:31:14.213201",
     "status": "completed"
    },
    "tags": []
   },
   "source": [
    "Intepretation:\n",
    "\n",
    "$p-value\\ \\  (0.04) < 0.05$ are satistically significant ($H_{0}$ is rejected, $H_{1}$ is accepted).\n",
    "\n",
    "Therefore, the difference is ***not due to chance*** (randomness) with confidence interval of 95% (1-significance level).\n",
    "\n",
    "---\n",
    "# c) Because the firm already spent vast amounts of money, is the difference in the number of adblocker detected for the next 3 months statistically significant and worth the investment? You may provide your opinion here.\n",
    "\n",
    "\n",
    "As answered in the previous question, the average difference in the number of adblocker detected is ***statistically significant***. However, the approach of analysing collected data (provided) week by week for this hypothesis testing ***overlooked the effect of seasonality***. I would suggest comparing the average difference before and after distribution during same or similar season.\n",
    "\n",
    "---\n",
    "# d) What’s the confidence intervals of the average difference? You may use 90% or 95% percentile for confidence intervals, state this percentile in the solution.\n",
    "\n",
    "\n",
    "The confidence interval of the average difference for this question is $95\\%$.\n",
    "\n",
    "---"
   ]
  }
 ],
 "metadata": {
  "kernelspec": {
   "display_name": "Python 3",
   "language": "python",
   "name": "python3"
  },
  "language_info": {
   "codemirror_mode": {
    "name": "ipython",
    "version": 3
   },
   "file_extension": ".py",
   "mimetype": "text/x-python",
   "name": "python",
   "nbconvert_exporter": "python",
   "pygments_lexer": "ipython3",
   "version": "3.7.12"
  },
  "papermill": {
   "default_parameters": {},
   "duration": 11.80685,
   "end_time": "2022-03-23T18:31:14.938846",
   "environment_variables": {},
   "exception": null,
   "input_path": "__notebook__.ipynb",
   "output_path": "__notebook__.ipynb",
   "parameters": {},
   "start_time": "2022-03-23T18:31:03.131996",
   "version": "2.3.3"
  }
 },
 "nbformat": 4,
 "nbformat_minor": 5
}
