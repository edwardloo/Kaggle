{
 "cells": [
  {
   "cell_type": "markdown",
   "id": "f76d8d05",
   "metadata": {
    "papermill": {
     "duration": 0.026351,
     "end_time": "2022-04-01T11:03:19.388021",
     "exception": false,
     "start_time": "2022-04-01T11:03:19.361670",
     "status": "completed"
    },
    "tags": []
   },
   "source": [
    "# [About Dataset]\n",
    "\n",
    "The dataset is maintained by the Jet Propulsion Laboratory of California Institute of Technology which is an organization under NASA.\n",
    "\n",
    "---\n",
    "## Columns Definition (refer [NASA JPL's glossary](https://cneos.jpl.nasa.gov/glossary/) for further information)\n",
    "\n",
    "- SPK-ID: Object primary SPK-ID **(remove)**\n",
    "- Object ID: Object internal database ID **(remove)**\n",
    "- Object fullname: Object full name/designation **(remove)**\n",
    "- pdes: Object primary designation **(remove)**\n",
    "- name: Object IAU name **(remove)**\n",
    "- NEO: Near-Earth Object (NEO) flag\n",
    "- PHA: Potentially Hazardous Asteroid (PHA) flag\n",
    "- H: Absolute magnitude parameter\n",
    "- Diameter: object diameter (from equivalent sphere) km Unit\n",
    "- Albedo: Geometric albedo\n",
    "- Diameter_sigma: 1-sigma uncertainty in object diameter km Unit\n",
    "- Orbit_id: Orbit solution ID\n",
    "- Epoch: Epoch of osculation in modified Julian day form\n",
    "- Equinox: Equinox of reference frame\n",
    "- e: Eccentricity\n",
    "- a: Semi-major axis au Unit\n",
    "- q: perihelion distance au Unit\n",
    "- i: inclination; angle with respect to x-y ecliptic plane\n",
    "- tp: Time of perihelion passage TDB Unit\n",
    "- moid_ld: Earth Minimum Orbit Intersection Distance au Unit\n",
    "\n",
    "---"
   ]
  },
  {
   "cell_type": "code",
   "execution_count": 1,
   "id": "38192a04",
   "metadata": {
    "_cell_guid": "b1076dfc-b9ad-4769-8c92-a6c4dae69d19",
    "_uuid": "8f2839f25d086af736a60e9eeb907d3b93b6e0e5",
    "execution": {
     "iopub.execute_input": "2022-04-01T11:03:19.440093Z",
     "iopub.status.busy": "2022-04-01T11:03:19.438804Z",
     "iopub.status.idle": "2022-04-01T11:03:34.466639Z",
     "shell.execute_reply": "2022-04-01T11:03:34.465838Z",
     "shell.execute_reply.started": "2022-04-01T09:14:15.263282Z"
    },
    "papermill": {
     "duration": 15.051315,
     "end_time": "2022-04-01T11:03:34.466791",
     "exception": false,
     "start_time": "2022-04-01T11:03:19.415476",
     "status": "completed"
    },
    "tags": []
   },
   "outputs": [
    {
     "name": "stderr",
     "output_type": "stream",
     "text": [
      "/opt/conda/lib/python3.7/site-packages/IPython/core/interactiveshell.py:3457: DtypeWarning: Columns (3,4,5) have mixed types.Specify dtype option on import or set low_memory=False.\n",
      "  exec(code_obj, self.user_global_ns, self.user_ns)\n"
     ]
    },
    {
     "data": {
      "text/plain": [
       "id                     0\n",
       "spkid                  0\n",
       "full_name              0\n",
       "pdes                   0\n",
       "name              936460\n",
       "prefix            958506\n",
       "neo                    4\n",
       "pha                19921\n",
       "H                   6263\n",
       "diameter          822315\n",
       "albedo            823421\n",
       "diameter_sigma    822443\n",
       "orbit_id               0\n",
       "epoch                  0\n",
       "epoch_mjd              0\n",
       "epoch_cal              0\n",
       "equinox                0\n",
       "e                      0\n",
       "a                      0\n",
       "q                      0\n",
       "i                      0\n",
       "om                     0\n",
       "w                      0\n",
       "ma                     1\n",
       "ad                     4\n",
       "n                      0\n",
       "tp                     0\n",
       "tp_cal                 0\n",
       "per                    4\n",
       "per_y                  1\n",
       "moid               19921\n",
       "moid_ld              127\n",
       "sigma_e            19922\n",
       "sigma_a            19922\n",
       "sigma_q            19922\n",
       "sigma_i            19922\n",
       "sigma_om           19922\n",
       "sigma_w            19922\n",
       "sigma_ma           19922\n",
       "sigma_ad           19926\n",
       "sigma_n            19922\n",
       "sigma_tp           19922\n",
       "sigma_per          19926\n",
       "class                  0\n",
       "rms                    2\n",
       "dtype: int64"
      ]
     },
     "execution_count": 1,
     "metadata": {},
     "output_type": "execute_result"
    }
   ],
   "source": [
    "import numpy as np # linear algebra\n",
    "import pandas as pd # data processing, CSV file I/O (e.g. pd.read_csv)\n",
    "import matplotlib as plt\n",
    "import seaborn as sns\n",
    "\n",
    "# from sklearn.model_selection import KFold\n",
    "# from sklearn.metrics import mean_squared_error\n",
    "# from sklearn.model_selection import train_test_split\n",
    "# from sklearn import preprocessing\n",
    "# from xgboost import XGBRegressor\n",
    "# from lightgbm import LGBMRegressor\n",
    "\n",
    "train = pd.read_csv(\"../input/asteroid-dataset/dataset.csv\")\n",
    "\n",
    "train.isnull().sum()"
   ]
  },
  {
   "cell_type": "markdown",
   "id": "4dc4eed7",
   "metadata": {
    "papermill": {
     "duration": 0.018621,
     "end_time": "2022-04-01T11:03:34.504760",
     "exception": false,
     "start_time": "2022-04-01T11:03:34.486139",
     "status": "completed"
    },
    "tags": []
   },
   "source": [
    "# 1. Data Cleaning\n",
    "---\n",
    "\n",
    "There are a lot of missing values, let's first remove columns that are just assigned for naming purpose (not useful):\n",
    "- id\n",
    "- full_name\n",
    "- pdes\n",
    "- orbit_id\n",
    "- name\n",
    "- prefix\n",
    "- equinox\n",
    "- spkid\n",
    "\n",
    "Although the columns:\n",
    "- diameter\n",
    "- albedo\n",
    "- diameter_sigma\n",
    "    \n",
    "might contain useful insighs, they have a lot of missing values. Therefore, the respective columns should be removed as there is no reliable was to impute the missing values.\n",
    "\n",
    "---"
   ]
  },
  {
   "cell_type": "code",
   "execution_count": 2,
   "id": "1a0924f0",
   "metadata": {
    "execution": {
     "iopub.execute_input": "2022-04-01T11:03:34.550994Z",
     "iopub.status.busy": "2022-04-01T11:03:34.550153Z",
     "iopub.status.idle": "2022-04-01T11:03:35.594708Z",
     "shell.execute_reply": "2022-04-01T11:03:35.595334Z",
     "shell.execute_reply.started": "2022-04-01T10:54:23.059276Z"
    },
    "papermill": {
     "duration": 1.072281,
     "end_time": "2022-04-01T11:03:35.595528",
     "exception": false,
     "start_time": "2022-04-01T11:03:34.523247",
     "status": "completed"
    },
    "tags": []
   },
   "outputs": [
    {
     "name": "stdout",
     "output_type": "stream",
     "text": [
      "Number of entries: \n",
      "958524\n",
      "\n",
      "Categorical Values (Missing): \n",
      "neo      4\n",
      "class    0\n",
      "dtype: int64\n",
      "\n",
      "Numerical Values (Missing): \n",
      "H             6263\n",
      "epoch            0\n",
      "epoch_mjd        0\n",
      "epoch_cal        0\n",
      "e                0\n",
      "a                0\n",
      "q                0\n",
      "i                0\n",
      "om               0\n",
      "w                0\n",
      "ma               1\n",
      "ad               4\n",
      "n                0\n",
      "tp               0\n",
      "tp_cal           0\n",
      "per              4\n",
      "per_y            1\n",
      "moid         19921\n",
      "moid_ld        127\n",
      "sigma_e      19922\n",
      "sigma_a      19922\n",
      "sigma_q      19922\n",
      "sigma_i      19922\n",
      "sigma_om     19922\n",
      "sigma_w      19922\n",
      "sigma_ma     19922\n",
      "sigma_ad     19926\n",
      "sigma_n      19922\n",
      "sigma_tp     19922\n",
      "sigma_per    19926\n",
      "rms              2\n",
      "dtype: int64\n"
     ]
    }
   ],
   "source": [
    "Xo = train.copy().drop(['id',\n",
    "                        'full_name', \n",
    "                        'pdes',\n",
    "                        'orbit_id',\n",
    "                        'name', \n",
    "                        'prefix', \n",
    "                        'equinox', \n",
    "                        'spkid',\n",
    "                        'diameter',\n",
    "                        'albedo',\n",
    "                        'diameter_sigma'], axis='columns', inplace=False)\n",
    "yo = Xo.pop('pha')\n",
    "# cat_feature = Xo[['neo','class']].columns\n",
    "cat_feature = list(Xo.select_dtypes(include = ['object']).columns)\n",
    "num_feature = list(Xo.select_dtypes(include = ['int64','float64']).columns)\n",
    "parameters = cat_feature + num_feature + [\"pha\"]\n",
    "\n",
    "print(\"Number of entries: \\n\" + str(train.shape[0]))\n",
    "print(\"\\nCategorical Values (Missing): \\n\" + str(train[cat_feature].isnull().sum()))\n",
    "print(\"\\nNumerical Values (Missing): \\n\" + str(train[num_feature].isnull().sum()))"
   ]
  },
  {
   "cell_type": "markdown",
   "id": "4c1cfe03",
   "metadata": {
    "papermill": {
     "duration": 0.019006,
     "end_time": "2022-04-01T11:03:35.634116",
     "exception": false,
     "start_time": "2022-04-01T11:03:35.615110",
     "status": "completed"
    },
    "tags": []
   },
   "source": [
    "---\n",
    "Removing rows that are not imputable:\n",
    "- pha\n",
    "- H\n",
    "- sigma_ad\n",
    "- ma\n",
    "\n",
    "---"
   ]
  },
  {
   "cell_type": "code",
   "execution_count": 3,
   "id": "82cb06f6",
   "metadata": {
    "execution": {
     "iopub.execute_input": "2022-04-01T11:03:35.675785Z",
     "iopub.status.busy": "2022-04-01T11:03:35.675109Z",
     "iopub.status.idle": "2022-04-01T11:03:37.113417Z",
     "shell.execute_reply": "2022-04-01T11:03:37.113958Z",
     "shell.execute_reply.started": "2022-04-01T10:54:26.318380Z"
    },
    "papermill": {
     "duration": 1.460595,
     "end_time": "2022-04-01T11:03:37.114135",
     "exception": false,
     "start_time": "2022-04-01T11:03:35.653540",
     "status": "completed"
    },
    "tags": []
   },
   "outputs": [],
   "source": [
    "X = train[train['pha'].notna()]\n",
    "X = X[X['H'].notna()]\n",
    "X = X[X['sigma_ad'].notna()]\n",
    "X = X[X['ma'].notna()]\n",
    "X = X[parameters]\n",
    "X = X.reset_index()\n",
    "X = X.drop([\"index\"] ,axis='columns', inplace=False)"
   ]
  },
  {
   "cell_type": "markdown",
   "id": "50c34c9f",
   "metadata": {
    "papermill": {
     "duration": 0.019733,
     "end_time": "2022-04-01T11:03:37.153629",
     "exception": false,
     "start_time": "2022-04-01T11:03:37.133896",
     "status": "completed"
    },
    "tags": []
   },
   "source": [
    "# 2. Data Processing\n",
    "---\n",
    "- Processing categorical variables.\n",
    "\n",
    "- [Scale](https://towardsdatascience.com/scale-standardize-or-normalize-with-scikit-learn-6ccc7d176a02) numerical features\n",
    "\n",
    "- One-hot encoding on categorical features.\n",
    "---"
   ]
  },
  {
   "cell_type": "code",
   "execution_count": 4,
   "id": "09703ab7",
   "metadata": {
    "execution": {
     "iopub.execute_input": "2022-04-01T11:03:37.195463Z",
     "iopub.status.busy": "2022-04-01T11:03:37.194844Z",
     "iopub.status.idle": "2022-04-01T11:03:38.666834Z",
     "shell.execute_reply": "2022-04-01T11:03:38.667307Z",
     "shell.execute_reply.started": "2022-04-01T10:54:31.579578Z"
    },
    "papermill": {
     "duration": 1.494519,
     "end_time": "2022-04-01T11:03:38.667515",
     "exception": false,
     "start_time": "2022-04-01T11:03:37.172996",
     "status": "completed"
    },
    "tags": []
   },
   "outputs": [],
   "source": [
    "# convert to categorical\n",
    "X['neo'] = X['neo'].astype('category')\n",
    "X['pha'] = X['pha'].astype('category')\n",
    "X['class'] = X['class'].astype('category')\n",
    "\n",
    "# minmax scaling\n",
    "from sklearn.preprocessing import MinMaxScaler\n",
    "\n",
    "scaler = MinMaxScaler()\n",
    "X_scale = scaler.fit_transform(X[num_feature])\n",
    "X_scale = pd.DataFrame(X_scale, columns = num_feature)\n",
    "X = pd.concat([X_scale,X[cat_feature],X['pha']],axis = 1)\n",
    "\n",
    "# one-hot encoding\n",
    "X = pd.get_dummies(X, columns = ['class'])\n",
    "X = pd.get_dummies(X, columns = ['neo', 'pha'], drop_first = True)\n",
    "df = X.copy() # keep a copy of precessed dataset"
   ]
  },
  {
   "cell_type": "markdown",
   "id": "fab6538a",
   "metadata": {
    "papermill": {
     "duration": 0.01906,
     "end_time": "2022-04-01T11:03:38.707586",
     "exception": false,
     "start_time": "2022-04-01T11:03:38.688526",
     "status": "completed"
    },
    "tags": []
   },
   "source": [
    "# 3. EDA\n",
    "---"
   ]
  },
  {
   "cell_type": "code",
   "execution_count": 5,
   "id": "3f3b4e44",
   "metadata": {
    "execution": {
     "iopub.execute_input": "2022-04-01T11:03:38.752381Z",
     "iopub.status.busy": "2022-04-01T11:03:38.751740Z",
     "iopub.status.idle": "2022-04-01T11:03:45.263004Z",
     "shell.execute_reply": "2022-04-01T11:03:45.262392Z",
     "shell.execute_reply.started": "2022-04-01T10:43:58.789936Z"
    },
    "papermill": {
     "duration": 6.535628,
     "end_time": "2022-04-01T11:03:45.263148",
     "exception": false,
     "start_time": "2022-04-01T11:03:38.727520",
     "status": "completed"
    },
    "tags": []
   },
   "outputs": [
    {
     "data": {
      "text/plain": [
       "<AxesSubplot:>"
      ]
     },
     "execution_count": 5,
     "metadata": {},
     "output_type": "execute_result"
    },
    {
     "data": {
      "image/png": "[encoded data removed]",
      "text/plain": [
       "<Figure size 1152x720 with 2 Axes>"
      ]
     },
     "metadata": {
      "needs_background": "light"
     },
     "output_type": "display_data"
    }
   ],
   "source": [
    "# visualizing the Pearson's Coefficients between features or target\n",
    "plt.pyplot.figure(figsize=(16,10))\n",
    "sns.heatmap(X.corr(), annot = False, cmap = \"coolwarm\", linewidths = 0.5)"
   ]
  },
  {
   "cell_type": "code",
   "execution_count": 6,
   "id": "be2fdc31",
   "metadata": {
    "execution": {
     "iopub.execute_input": "2022-04-01T11:03:45.310842Z",
     "iopub.status.busy": "2022-04-01T11:03:45.309861Z",
     "iopub.status.idle": "2022-04-01T11:10:13.334342Z",
     "shell.execute_reply": "2022-04-01T11:10:13.334916Z",
     "shell.execute_reply.started": "2022-04-01T09:18:06.758632Z"
    },
    "papermill": {
     "duration": 388.050071,
     "end_time": "2022-04-01T11:10:13.335259",
     "exception": false,
     "start_time": "2022-04-01T11:03:45.285188",
     "status": "completed"
    },
    "tags": []
   },
   "outputs": [
    {
     "data": {
      "image/png": "[encoded data removed]",
      "text/plain": [
       "<Figure size 1008x720 with 1 Axes>"
      ]
     },
     "metadata": {
      "needs_background": "light"
     },
     "output_type": "display_data"
    }
   ],
   "source": [
    "# check on the mutual information between features\n",
    "from sklearn.feature_selection import mutual_info_classif\n",
    "features = X.columns.drop('pha_Y')\n",
    "x = X.copy()\n",
    "y = x.pop(\"pha_Y\")\n",
    "feature_series = pd.Series(features, name = \"Features\")\n",
    "discrete_features = x.dtypes == int\n",
    "\n",
    "def mi(x,y,discrete_features):\n",
    "    mi_score = mutual_info_classif(x,y,discrete_features=discrete_features)\n",
    "    mi_score = pd.Series(mi_score, name = \"Mutual Information\")\n",
    "    mi_df = pd.concat([feature_series, mi_score], axis = 1)\n",
    "    mi_df = mi_df.sort_values(ascending = False, by = ['Mutual Information'])\n",
    "    return mi_df\n",
    "\n",
    "mi_df = mi(x,y,discrete_features)\n",
    "\n",
    "# visualize mutual information\n",
    "plt.pyplot.figure(figsize=(14,10))\n",
    "bp_ax = sns.barplot(y=mi_df['Features'],x=mi_df['Mutual Information'])"
   ]
  },
  {
   "cell_type": "code",
   "execution_count": null,
   "id": "37823be4",
   "metadata": {
    "execution": {
     "iopub.execute_input": "2022-04-01T09:29:23.428981Z",
     "iopub.status.busy": "2022-04-01T09:29:23.428604Z",
     "iopub.status.idle": "2022-04-01T09:29:24.038864Z",
     "shell.execute_reply": "2022-04-01T09:29:24.037985Z",
     "shell.execute_reply.started": "2022-04-01T09:29:23.428944Z"
    },
    "papermill": {
     "duration": 0.023304,
     "end_time": "2022-04-01T11:10:13.382632",
     "exception": false,
     "start_time": "2022-04-01T11:10:13.359328",
     "status": "completed"
    },
    "tags": []
   },
   "outputs": [],
   "source": []
  },
  {
   "cell_type": "code",
   "execution_count": 7,
   "id": "50956126",
   "metadata": {
    "execution": {
     "iopub.execute_input": "2022-04-01T11:10:13.437784Z",
     "iopub.status.busy": "2022-04-01T11:10:13.437124Z",
     "iopub.status.idle": "2022-04-01T11:10:13.441365Z",
     "shell.execute_reply": "2022-04-01T11:10:13.440843Z",
     "shell.execute_reply.started": "2022-04-01T09:48:09.778575Z"
    },
    "papermill": {
     "duration": 0.035558,
     "end_time": "2022-04-01T11:10:13.441522",
     "exception": false,
     "start_time": "2022-04-01T11:10:13.405964",
     "status": "completed"
    },
    "tags": []
   },
   "outputs": [
    {
     "data": {
      "text/plain": [
       "17"
      ]
     },
     "execution_count": 7,
     "metadata": {},
     "output_type": "execute_result"
    }
   ],
   "source": [
    "# extracting the features with MI more than 0.08 [0.04 if want to inspect more]\n",
    "mi_large = mi_df[mi_df[\"Mutual Information\"] > 0.001]\n",
    "large_parameter = mi_large.Features.values\n",
    "len(large_parameter)"
   ]
  },
  {
   "cell_type": "markdown",
   "id": "bf2fc6c8",
   "metadata": {
    "papermill": {
     "duration": 0.023407,
     "end_time": "2022-04-01T11:10:13.488704",
     "exception": false,
     "start_time": "2022-04-01T11:10:13.465297",
     "status": "completed"
    },
    "tags": []
   },
   "source": [
    "---\n",
    "Parameters with large MI values: \n",
    "- 'epoch_cal',\n",
    "- 'epoch',\n",
    "- 'epoch_mjd',\n",
    "- 'class_MBA',\n",
    "- 'moid',\n",
    "- 'moid_ld',\n",
    "- 'H',\n",
    "- 'q',\n",
    "- 'neo_Y',\n",
    "- 'class_APO',\n",
    "- 'e',\n",
    "- 'n',\n",
    "- 'a',\n",
    "- 'per_y',\n",
    "- 'per',\n",
    "- 'ad',\n",
    "- 'rms'\n",
    "\n",
    "---\n",
    "# 4. Model Selection and Development\n",
    "\n",
    "---\n",
    "Since the distribution of Hazardous asteroids is way lower than its counterpart, the dataset is heavily imbalanced. To deal with this BalancedBaggingClassifier is adopted."
   ]
  },
  {
   "cell_type": "code",
   "execution_count": 8,
   "id": "02ca3bc2",
   "metadata": {
    "execution": {
     "iopub.execute_input": "2022-04-01T11:10:13.539677Z",
     "iopub.status.busy": "2022-04-01T11:10:13.538736Z",
     "iopub.status.idle": "2022-04-01T11:10:13.554749Z",
     "shell.execute_reply": "2022-04-01T11:10:13.555225Z"
    },
    "papermill": {
     "duration": 0.043021,
     "end_time": "2022-04-01T11:10:13.555389",
     "exception": false,
     "start_time": "2022-04-01T11:10:13.512368",
     "status": "completed"
    },
    "tags": []
   },
   "outputs": [
    {
     "data": {
      "text/plain": [
       "0    99.778406\n",
       "1     0.221594\n",
       "Name: pha_Y, dtype: float64"
      ]
     },
     "execution_count": 8,
     "metadata": {},
     "output_type": "execute_result"
    }
   ],
   "source": [
    "# check on the distribution of target class\n",
    "X['pha_Y'].value_counts(normalize = True)*100"
   ]
  },
  {
   "cell_type": "markdown",
   "id": "43019f91",
   "metadata": {
    "papermill": {
     "duration": 0.023714,
     "end_time": "2022-04-01T11:10:13.603235",
     "exception": false,
     "start_time": "2022-04-01T11:10:13.579521",
     "status": "completed"
    },
    "tags": []
   },
   "source": [
    "Since there is no test data, train-test split is required to obtain validation data.\n",
    "\n",
    "While we are at it, the model performance metrics calculation function is created to obtain the following metrics:\n",
    "- precision\n",
    "- recall\n",
    "- acuracy\n",
    "- F1 score"
   ]
  },
  {
   "cell_type": "code",
   "execution_count": 9,
   "id": "379c99b5",
   "metadata": {
    "execution": {
     "iopub.execute_input": "2022-04-01T11:10:13.656298Z",
     "iopub.status.busy": "2022-04-01T11:10:13.655336Z",
     "iopub.status.idle": "2022-04-01T11:10:14.158490Z",
     "shell.execute_reply": "2022-04-01T11:10:14.157788Z",
     "shell.execute_reply.started": "2022-04-01T10:55:01.660343Z"
    },
    "papermill": {
     "duration": 0.530753,
     "end_time": "2022-04-01T11:10:14.158644",
     "exception": false,
     "start_time": "2022-04-01T11:10:13.627891",
     "status": "completed"
    },
    "tags": []
   },
   "outputs": [],
   "source": [
    "# train-test split\n",
    "from sklearn.model_selection import train_test_split\n",
    "y = X.pop('pha_Y')\n",
    "X_train, X_valid, y_train, y_valid = train_test_split(X, y, test_size = 0.20, random_state = 0)\n",
    "\n",
    "result = pd.DataFrame(columns = ['Model', 'Precision', 'Recall', 'Accuracy', 'F1'])\n",
    "\n",
    "# define a function to calculate metrics\n",
    "from sklearn import metrics\n",
    "\n",
    "def calc_metrics(y_valid, preds, model):\n",
    "    precision = metrics.precision_score(y_valid, preds)\n",
    "    recall = metrics.recall_score(y_valid, preds)\n",
    "    accuracy = metrics.accuracy_score(y_valid, preds)\n",
    "    f1 = metrics.f1_score(y_valid, preds)\n",
    "    global result\n",
    "    result = result.append(pd.DataFrame({'Model' : model,\n",
    "                                         'Precision': precision,\n",
    "                                         'Recall' : recall,\n",
    "                                         'Accuracy': accuracy,\n",
    "                                         'F1' : f1}, index = [0]), \n",
    "                           ignore_index = True)\n",
    "    return result"
   ]
  },
  {
   "cell_type": "markdown",
   "id": "7ae4c7de",
   "metadata": {
    "papermill": {
     "duration": 0.027028,
     "end_time": "2022-04-01T11:10:14.211880",
     "exception": false,
     "start_time": "2022-04-01T11:10:14.184852",
     "status": "completed"
    },
    "tags": []
   },
   "source": [
    "## Trial :\n",
    "1. Logistic Regression\n",
    "2. XGBoost\n",
    "3. Random Forest"
   ]
  },
  {
   "cell_type": "code",
   "execution_count": 10,
   "id": "714116be",
   "metadata": {
    "execution": {
     "iopub.execute_input": "2022-04-01T11:10:14.270845Z",
     "iopub.status.busy": "2022-04-01T11:10:14.270177Z",
     "iopub.status.idle": "2022-04-01T11:10:56.078884Z",
     "shell.execute_reply": "2022-04-01T11:10:56.079404Z",
     "shell.execute_reply.started": "2022-04-01T10:58:02.462804Z"
    },
    "papermill": {
     "duration": 41.841596,
     "end_time": "2022-04-01T11:10:56.079634",
     "exception": false,
     "start_time": "2022-04-01T11:10:14.238038",
     "status": "completed"
    },
    "tags": []
   },
   "outputs": [
    {
     "name": "stderr",
     "output_type": "stream",
     "text": [
      "/opt/conda/lib/python3.7/site-packages/xgboost/sklearn.py:1224: UserWarning: The use of label encoder in XGBClassifier is deprecated and will be removed in a future release. To remove this warning, do the following: 1) Pass option use_label_encoder=False when constructing XGBClassifier object; and 2) Encode your labels (y) as integers starting with 0, i.e. 0, 1, 2, ..., [num_class - 1].\n",
      "  warnings.warn(label_encoder_deprecation_msg, UserWarning)\n",
      "/opt/conda/lib/python3.7/site-packages/xgboost/sklearn.py:1224: UserWarning: The use of label encoder in XGBClassifier is deprecated and will be removed in a future release. To remove this warning, do the following: 1) Pass option use_label_encoder=False when constructing XGBClassifier object; and 2) Encode your labels (y) as integers starting with 0, i.e. 0, 1, 2, ..., [num_class - 1].\n",
      "  warnings.warn(label_encoder_deprecation_msg, UserWarning)\n",
      "/opt/conda/lib/python3.7/site-packages/xgboost/sklearn.py:1224: UserWarning: The use of label encoder in XGBClassifier is deprecated and will be removed in a future release. To remove this warning, do the following: 1) Pass option use_label_encoder=False when constructing XGBClassifier object; and 2) Encode your labels (y) as integers starting with 0, i.e. 0, 1, 2, ..., [num_class - 1].\n",
      "  warnings.warn(label_encoder_deprecation_msg, UserWarning)\n",
      "/opt/conda/lib/python3.7/site-packages/xgboost/sklearn.py:1224: UserWarning: The use of label encoder in XGBClassifier is deprecated and will be removed in a future release. To remove this warning, do the following: 1) Pass option use_label_encoder=False when constructing XGBClassifier object; and 2) Encode your labels (y) as integers starting with 0, i.e. 0, 1, 2, ..., [num_class - 1].\n",
      "  warnings.warn(label_encoder_deprecation_msg, UserWarning)\n",
      "/opt/conda/lib/python3.7/site-packages/xgboost/sklearn.py:1224: UserWarning: The use of label encoder in XGBClassifier is deprecated and will be removed in a future release. To remove this warning, do the following: 1) Pass option use_label_encoder=False when constructing XGBClassifier object; and 2) Encode your labels (y) as integers starting with 0, i.e. 0, 1, 2, ..., [num_class - 1].\n",
      "  warnings.warn(label_encoder_deprecation_msg, UserWarning)\n",
      "/opt/conda/lib/python3.7/site-packages/xgboost/sklearn.py:1224: UserWarning: The use of label encoder in XGBClassifier is deprecated and will be removed in a future release. To remove this warning, do the following: 1) Pass option use_label_encoder=False when constructing XGBClassifier object; and 2) Encode your labels (y) as integers starting with 0, i.e. 0, 1, 2, ..., [num_class - 1].\n",
      "  warnings.warn(label_encoder_deprecation_msg, UserWarning)\n",
      "/opt/conda/lib/python3.7/site-packages/xgboost/sklearn.py:1224: UserWarning: The use of label encoder in XGBClassifier is deprecated and will be removed in a future release. To remove this warning, do the following: 1) Pass option use_label_encoder=False when constructing XGBClassifier object; and 2) Encode your labels (y) as integers starting with 0, i.e. 0, 1, 2, ..., [num_class - 1].\n",
      "  warnings.warn(label_encoder_deprecation_msg, UserWarning)\n",
      "/opt/conda/lib/python3.7/site-packages/xgboost/sklearn.py:1224: UserWarning: The use of label encoder in XGBClassifier is deprecated and will be removed in a future release. To remove this warning, do the following: 1) Pass option use_label_encoder=False when constructing XGBClassifier object; and 2) Encode your labels (y) as integers starting with 0, i.e. 0, 1, 2, ..., [num_class - 1].\n",
      "  warnings.warn(label_encoder_deprecation_msg, UserWarning)\n",
      "/opt/conda/lib/python3.7/site-packages/xgboost/sklearn.py:1224: UserWarning: The use of label encoder in XGBClassifier is deprecated and will be removed in a future release. To remove this warning, do the following: 1) Pass option use_label_encoder=False when constructing XGBClassifier object; and 2) Encode your labels (y) as integers starting with 0, i.e. 0, 1, 2, ..., [num_class - 1].\n",
      "  warnings.warn(label_encoder_deprecation_msg, UserWarning)\n",
      "/opt/conda/lib/python3.7/site-packages/xgboost/sklearn.py:1224: UserWarning: The use of label encoder in XGBClassifier is deprecated and will be removed in a future release. To remove this warning, do the following: 1) Pass option use_label_encoder=False when constructing XGBClassifier object; and 2) Encode your labels (y) as integers starting with 0, i.e. 0, 1, 2, ..., [num_class - 1].\n",
      "  warnings.warn(label_encoder_deprecation_msg, UserWarning)\n"
     ]
    }
   ],
   "source": [
    "from imblearn.ensemble import BalancedBaggingClassifier\n",
    "from sklearn.linear_model import LogisticRegression\n",
    "from xgboost import XGBClassifier\n",
    "from sklearn.tree import DecisionTreeClassifier\n",
    "\n",
    "\n",
    "models = [LogisticRegression(random_state = 0), \n",
    "          XGBClassifier(random_state = 0, verbosity = 0),\n",
    "          DecisionTreeClassifier(random_state = 0)]\n",
    "\n",
    "for model in models:\n",
    "    classifier = BalancedBaggingClassifier(base_estimator = model,\n",
    "                                          sampling_strategy = \"all\",\n",
    "                                          replacement = False,\n",
    "                                          random_state = 0)\n",
    "    classifier.fit(X_train, y_train)\n",
    "    preds = classifier.predict(X_valid)\n",
    "    calc_metrics(y_valid, preds, model)"
   ]
  },
  {
   "cell_type": "code",
   "execution_count": 11,
   "id": "7c757289",
   "metadata": {
    "execution": {
     "iopub.execute_input": "2022-04-01T11:10:56.140563Z",
     "iopub.status.busy": "2022-04-01T11:10:56.139869Z",
     "iopub.status.idle": "2022-04-01T11:10:56.163164Z",
     "shell.execute_reply": "2022-04-01T11:10:56.162646Z",
     "shell.execute_reply.started": "2022-04-01T11:02:18.174723Z"
    },
    "papermill": {
     "duration": 0.054486,
     "end_time": "2022-04-01T11:10:56.163306",
     "exception": false,
     "start_time": "2022-04-01T11:10:56.108820",
     "status": "completed"
    },
    "tags": []
   },
   "outputs": [
    {
     "data": {
      "text/html": [
       "<div>\n",
       "<style scoped>\n",
       "    .dataframe tbody tr th:only-of-type {\n",
       "        vertical-align: middle;\n",
       "    }\n",
       "\n",
       "    .dataframe tbody tr th {\n",
       "        vertical-align: top;\n",
       "    }\n",
       "\n",
       "    .dataframe thead th {\n",
       "        text-align: right;\n",
       "    }\n",
       "</style>\n",
       "<table border=\"1\" class=\"dataframe\">\n",
       "  <thead>\n",
       "    <tr style=\"text-align: right;\">\n",
       "      <th></th>\n",
       "      <th>Model</th>\n",
       "      <th>Precision</th>\n",
       "      <th>Recall</th>\n",
       "      <th>Accuracy</th>\n",
       "      <th>F1</th>\n",
       "    </tr>\n",
       "  </thead>\n",
       "  <tbody>\n",
       "    <tr>\n",
       "      <th>2</th>\n",
       "      <td>DecisionTreeClassifier(random_state=0)</td>\n",
       "      <td>0.788104</td>\n",
       "      <td>1.0</td>\n",
       "      <td>0.999389</td>\n",
       "      <td>0.881497</td>\n",
       "    </tr>\n",
       "    <tr>\n",
       "      <th>1</th>\n",
       "      <td>XGBClassifier(base_score=None, booster=None, c...</td>\n",
       "      <td>0.785185</td>\n",
       "      <td>1.0</td>\n",
       "      <td>0.999378</td>\n",
       "      <td>0.879668</td>\n",
       "    </tr>\n",
       "    <tr>\n",
       "      <th>0</th>\n",
       "      <td>LogisticRegression(random_state=0)</td>\n",
       "      <td>0.092657</td>\n",
       "      <td>1.0</td>\n",
       "      <td>0.977733</td>\n",
       "      <td>0.169600</td>\n",
       "    </tr>\n",
       "  </tbody>\n",
       "</table>\n",
       "</div>"
      ],
      "text/plain": [
       "                                               Model  Precision  Recall  \\\n",
       "2             DecisionTreeClassifier(random_state=0)   0.788104     1.0   \n",
       "1  XGBClassifier(base_score=None, booster=None, c...   0.785185     1.0   \n",
       "0                 LogisticRegression(random_state=0)   0.092657     1.0   \n",
       "\n",
       "   Accuracy        F1  \n",
       "2  0.999389  0.881497  \n",
       "1  0.999378  0.879668  \n",
       "0  0.977733  0.169600  "
      ]
     },
     "execution_count": 11,
     "metadata": {},
     "output_type": "execute_result"
    }
   ],
   "source": [
    "# show the tabulated result\n",
    "result.sort_values(by = \"F1\", ascending = False)"
   ]
  }
 ],
 "metadata": {
  "kernelspec": {
   "display_name": "Python 3",
   "language": "python",
   "name": "python3"
  },
  "language_info": {
   "codemirror_mode": {
    "name": "ipython",
    "version": 3
   },
   "file_extension": ".py",
   "mimetype": "text/x-python",
   "name": "python",
   "nbconvert_exporter": "python",
   "pygments_lexer": "ipython3",
   "version": "3.7.12"
  },
  "papermill": {
   "default_parameters": {},
   "duration": 467.511653,
   "end_time": "2022-04-01T11:10:57.408104",
   "environment_variables": {},
   "exception": null,
   "input_path": "__notebook__.ipynb",
   "output_path": "__notebook__.ipynb",
   "parameters": {},
   "start_time": "2022-04-01T11:03:09.896451",
   "version": "2.3.3"
  }
 },
 "nbformat": 4,
 "nbformat_minor": 5
}
