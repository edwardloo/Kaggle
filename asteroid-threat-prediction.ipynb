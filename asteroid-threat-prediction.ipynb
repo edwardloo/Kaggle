{
 "cells": [
  {
   "cell_type": "code",
   "execution_count": 1,
   "id": "3ce06b3b",
   "metadata": {
    "_cell_guid": "b1076dfc-b9ad-4769-8c92-a6c4dae69d19",
    "_uuid": "8f2839f25d086af736a60e9eeb907d3b93b6e0e5",
    "execution": {
     "iopub.execute_input": "2022-03-19T08:21:59.492272Z",
     "iopub.status.busy": "2022-03-19T08:21:59.491483Z",
     "iopub.status.idle": "2022-03-19T08:22:01.727330Z",
     "shell.execute_reply": "2022-03-19T08:22:01.727798Z",
     "shell.execute_reply.started": "2022-03-19T07:38:02.598193Z"
    },
    "papermill": {
     "duration": 2.253885,
     "end_time": "2022-03-19T08:22:01.728097",
     "exception": false,
     "start_time": "2022-03-19T08:21:59.474212",
     "status": "completed"
    },
    "tags": []
   },
   "outputs": [
    {
     "data": {
      "text/html": [
       "<style type='text/css'>\n",
       ".datatable table.frame { margin-bottom: 0; }\n",
       ".datatable table.frame thead { border-bottom: none; }\n",
       ".datatable table.frame tr.coltypes td {  color: #FFFFFF;  line-height: 6px;  padding: 0 0.5em;}\n",
       ".datatable .bool    { background: #DDDD99; }\n",
       ".datatable .object  { background: #565656; }\n",
       ".datatable .int     { background: #5D9E5D; }\n",
       ".datatable .float   { background: #4040CC; }\n",
       ".datatable .str     { background: #CC4040; }\n",
       ".datatable .time    { background: #40CC40; }\n",
       ".datatable .row_index {  background: var(--jp-border-color3);  border-right: 1px solid var(--jp-border-color0);  color: var(--jp-ui-font-color3);  font-size: 9px;}\n",
       ".datatable .frame tbody td { text-align: left; }\n",
       ".datatable .frame tr.coltypes .row_index {  background: var(--jp-border-color0);}\n",
       ".datatable th:nth-child(2) { padding-left: 12px; }\n",
       ".datatable .hellipsis {  color: var(--jp-cell-editor-border-color);}\n",
       ".datatable .vellipsis {  background: var(--jp-layout-color0);  color: var(--jp-cell-editor-border-color);}\n",
       ".datatable .na {  color: var(--jp-cell-editor-border-color);  font-size: 80%;}\n",
       ".datatable .sp {  opacity: 0.25;}\n",
       ".datatable .footer { font-size: 9px; }\n",
       ".datatable .frame_dimensions {  background: var(--jp-border-color3);  border-top: 1px solid var(--jp-border-color0);  color: var(--jp-ui-font-color3);  display: inline-block;  opacity: 0.6;  padding: 1px 10px 1px 5px;}\n",
       "</style>\n"
      ],
      "text/plain": [
       "<IPython.core.display.HTML object>"
      ]
     },
     "metadata": {},
     "output_type": "display_data"
    },
    {
     "data": {
      "text/html": [
       "<div>\n",
       "<style scoped>\n",
       "    .dataframe tbody tr th:only-of-type {\n",
       "        vertical-align: middle;\n",
       "    }\n",
       "\n",
       "    .dataframe tbody tr th {\n",
       "        vertical-align: top;\n",
       "    }\n",
       "\n",
       "    .dataframe thead th {\n",
       "        text-align: right;\n",
       "    }\n",
       "</style>\n",
       "<table border=\"1\" class=\"dataframe\">\n",
       "  <thead>\n",
       "    <tr style=\"text-align: right;\">\n",
       "      <th></th>\n",
       "      <th>Absolute Magnitude</th>\n",
       "      <th>Est Dia in KM(min)</th>\n",
       "      <th>Est Dia in KM(max)</th>\n",
       "      <th>Est Dia in M(min)</th>\n",
       "      <th>Est Dia in M(max)</th>\n",
       "      <th>Est Dia in Miles(min)</th>\n",
       "      <th>Est Dia in Miles(max)</th>\n",
       "      <th>Est Dia in Feet(min)</th>\n",
       "      <th>Est Dia in Feet(max)</th>\n",
       "      <th>Relative Velocity km per sec</th>\n",
       "      <th>...</th>\n",
       "      <th>Inclination</th>\n",
       "      <th>Asc Node Longitude</th>\n",
       "      <th>Orbital Period</th>\n",
       "      <th>Perihelion Distance</th>\n",
       "      <th>Perihelion Arg</th>\n",
       "      <th>Aphelion Dist</th>\n",
       "      <th>Perihelion Time</th>\n",
       "      <th>Mean Anomaly</th>\n",
       "      <th>Mean Motion</th>\n",
       "      <th>Hazardous</th>\n",
       "    </tr>\n",
       "  </thead>\n",
       "  <tbody>\n",
       "    <tr>\n",
       "      <th>0</th>\n",
       "      <td>26.6</td>\n",
       "      <td>0.012722</td>\n",
       "      <td>0.028447</td>\n",
       "      <td>12.721988</td>\n",
       "      <td>28.447230</td>\n",
       "      <td>0.007905</td>\n",
       "      <td>0.017676</td>\n",
       "      <td>41.738807</td>\n",
       "      <td>93.330809</td>\n",
       "      <td>7.648194</td>\n",
       "      <td>...</td>\n",
       "      <td>7.583001</td>\n",
       "      <td>347.475804</td>\n",
       "      <td>443.098049</td>\n",
       "      <td>0.890218</td>\n",
       "      <td>245.671594</td>\n",
       "      <td>1.384692</td>\n",
       "      <td>2.457846e+06</td>\n",
       "      <td>125.647826</td>\n",
       "      <td>0.812461</td>\n",
       "      <td>0</td>\n",
       "    </tr>\n",
       "    <tr>\n",
       "      <th>1</th>\n",
       "      <td>22.7</td>\n",
       "      <td>0.076658</td>\n",
       "      <td>0.171412</td>\n",
       "      <td>76.657557</td>\n",
       "      <td>171.411509</td>\n",
       "      <td>0.047633</td>\n",
       "      <td>0.106510</td>\n",
       "      <td>251.501180</td>\n",
       "      <td>562.373736</td>\n",
       "      <td>19.142824</td>\n",
       "      <td>...</td>\n",
       "      <td>4.710039</td>\n",
       "      <td>176.203926</td>\n",
       "      <td>1107.448956</td>\n",
       "      <td>0.984464</td>\n",
       "      <td>175.628191</td>\n",
       "      <td>3.205210</td>\n",
       "      <td>2.457653e+06</td>\n",
       "      <td>113.100725</td>\n",
       "      <td>0.325071</td>\n",
       "      <td>0</td>\n",
       "    </tr>\n",
       "    <tr>\n",
       "      <th>2</th>\n",
       "      <td>24.0</td>\n",
       "      <td>0.042126</td>\n",
       "      <td>0.094198</td>\n",
       "      <td>42.126461</td>\n",
       "      <td>94.197631</td>\n",
       "      <td>0.026176</td>\n",
       "      <td>0.058532</td>\n",
       "      <td>138.210178</td>\n",
       "      <td>309.047354</td>\n",
       "      <td>7.819970</td>\n",
       "      <td>...</td>\n",
       "      <td>11.609153</td>\n",
       "      <td>146.961250</td>\n",
       "      <td>317.222445</td>\n",
       "      <td>0.828952</td>\n",
       "      <td>195.589585</td>\n",
       "      <td>0.991616</td>\n",
       "      <td>2.458100e+06</td>\n",
       "      <td>246.773198</td>\n",
       "      <td>1.134850</td>\n",
       "      <td>0</td>\n",
       "    </tr>\n",
       "    <tr>\n",
       "      <th>3</th>\n",
       "      <td>17.7</td>\n",
       "      <td>0.766576</td>\n",
       "      <td>1.714115</td>\n",
       "      <td>766.575574</td>\n",
       "      <td>1714.115092</td>\n",
       "      <td>0.476328</td>\n",
       "      <td>1.065101</td>\n",
       "      <td>2515.011805</td>\n",
       "      <td>5623.737359</td>\n",
       "      <td>2.335267</td>\n",
       "      <td>...</td>\n",
       "      <td>7.012588</td>\n",
       "      <td>354.475923</td>\n",
       "      <td>1036.204307</td>\n",
       "      <td>1.259659</td>\n",
       "      <td>105.208870</td>\n",
       "      <td>2.748343</td>\n",
       "      <td>2.457681e+06</td>\n",
       "      <td>111.130550</td>\n",
       "      <td>0.347422</td>\n",
       "      <td>0</td>\n",
       "    </tr>\n",
       "    <tr>\n",
       "      <th>4</th>\n",
       "      <td>21.3</td>\n",
       "      <td>0.146068</td>\n",
       "      <td>0.326618</td>\n",
       "      <td>146.067964</td>\n",
       "      <td>326.617897</td>\n",
       "      <td>0.090762</td>\n",
       "      <td>0.202951</td>\n",
       "      <td>479.225620</td>\n",
       "      <td>1071.581063</td>\n",
       "      <td>30.994787</td>\n",
       "      <td>...</td>\n",
       "      <td>60.900589</td>\n",
       "      <td>219.323712</td>\n",
       "      <td>2174.260704</td>\n",
       "      <td>1.277179</td>\n",
       "      <td>218.504766</td>\n",
       "      <td>5.291914</td>\n",
       "      <td>2.458459e+06</td>\n",
       "      <td>284.064157</td>\n",
       "      <td>0.165574</td>\n",
       "      <td>0</td>\n",
       "    </tr>\n",
       "  </tbody>\n",
       "</table>\n",
       "<p>5 rows × 33 columns</p>\n",
       "</div>"
      ],
      "text/plain": [
       "   Absolute Magnitude  Est Dia in KM(min)  Est Dia in KM(max)  \\\n",
       "0                26.6            0.012722            0.028447   \n",
       "1                22.7            0.076658            0.171412   \n",
       "2                24.0            0.042126            0.094198   \n",
       "3                17.7            0.766576            1.714115   \n",
       "4                21.3            0.146068            0.326618   \n",
       "\n",
       "   Est Dia in M(min)  Est Dia in M(max)  Est Dia in Miles(min)  \\\n",
       "0          12.721988          28.447230               0.007905   \n",
       "1          76.657557         171.411509               0.047633   \n",
       "2          42.126461          94.197631               0.026176   \n",
       "3         766.575574        1714.115092               0.476328   \n",
       "4         146.067964         326.617897               0.090762   \n",
       "\n",
       "   Est Dia in Miles(max)  Est Dia in Feet(min)  Est Dia in Feet(max)  \\\n",
       "0               0.017676             41.738807             93.330809   \n",
       "1               0.106510            251.501180            562.373736   \n",
       "2               0.058532            138.210178            309.047354   \n",
       "3               1.065101           2515.011805           5623.737359   \n",
       "4               0.202951            479.225620           1071.581063   \n",
       "\n",
       "   Relative Velocity km per sec  ...  Inclination  Asc Node Longitude  \\\n",
       "0                      7.648194  ...     7.583001          347.475804   \n",
       "1                     19.142824  ...     4.710039          176.203926   \n",
       "2                      7.819970  ...    11.609153          146.961250   \n",
       "3                      2.335267  ...     7.012588          354.475923   \n",
       "4                     30.994787  ...    60.900589          219.323712   \n",
       "\n",
       "   Orbital Period  Perihelion Distance  Perihelion Arg  Aphelion Dist  \\\n",
       "0      443.098049             0.890218      245.671594       1.384692   \n",
       "1     1107.448956             0.984464      175.628191       3.205210   \n",
       "2      317.222445             0.828952      195.589585       0.991616   \n",
       "3     1036.204307             1.259659      105.208870       2.748343   \n",
       "4     2174.260704             1.277179      218.504766       5.291914   \n",
       "\n",
       "   Perihelion Time  Mean Anomaly  Mean Motion  Hazardous  \n",
       "0     2.457846e+06    125.647826     0.812461          0  \n",
       "1     2.457653e+06    113.100725     0.325071          0  \n",
       "2     2.458100e+06    246.773198     1.134850          0  \n",
       "3     2.457681e+06    111.130550     0.347422          0  \n",
       "4     2.458459e+06    284.064157     0.165574          0  \n",
       "\n",
       "[5 rows x 33 columns]"
      ]
     },
     "execution_count": 1,
     "metadata": {},
     "output_type": "execute_result"
    }
   ],
   "source": [
    "# This Python 3 environment comes with many helpful analytics libraries installed\n",
    "# It is defined by the kaggle/python Docker image: https://github.com/kaggle/docker-python\n",
    "# For example, here's several helpful packages to load\n",
    "\n",
    "import numpy as np # linear algebra\n",
    "import pandas as pd # data processing, CSV file I/O (e.g. pd.read_csv)\n",
    "import matplotlib as plt\n",
    "import seaborn as sns\n",
    "\n",
    "from sklearn.model_selection import KFold\n",
    "from sklearn.metrics import mean_squared_error\n",
    "from sklearn.model_selection import train_test_split\n",
    "from sklearn import preprocessing\n",
    "from xgboost import XGBRegressor\n",
    "from lightgbm import LGBMRegressor\n",
    "\n",
    "test = pd.read_csv(\"../input/asteroids-threat-prediction/Test_.csv\")\n",
    "train = pd.read_csv(\"../input/asteroids-threat-prediction/Train_.csv\")\n",
    "\n",
    "train.head()"
   ]
  },
  {
   "cell_type": "code",
   "execution_count": 2,
   "id": "5ab1d5f3",
   "metadata": {
    "execution": {
     "iopub.execute_input": "2022-03-19T08:22:01.753408Z",
     "iopub.status.busy": "2022-03-19T08:22:01.752751Z",
     "iopub.status.idle": "2022-03-19T08:22:01.759370Z",
     "shell.execute_reply": "2022-03-19T08:22:01.758903Z",
     "shell.execute_reply.started": "2022-03-19T07:38:05.470886Z"
    },
    "papermill": {
     "duration": 0.019652,
     "end_time": "2022-03-19T08:22:01.759505",
     "exception": false,
     "start_time": "2022-03-19T08:22:01.739853",
     "status": "completed"
    },
    "tags": []
   },
   "outputs": [
    {
     "data": {
      "text/plain": [
       "Absolute Magnitude              0\n",
       "Est Dia in KM(min)              0\n",
       "Est Dia in KM(max)              0\n",
       "Est Dia in M(min)               0\n",
       "Est Dia in M(max)               0\n",
       "Est Dia in Miles(min)           0\n",
       "Est Dia in Miles(max)           0\n",
       "Est Dia in Feet(min)            0\n",
       "Est Dia in Feet(max)            0\n",
       "Relative Velocity km per sec    0\n",
       "Relative Velocity km per hr     0\n",
       "Miles per hour                  0\n",
       "Miss Dist.(Astronomical)        0\n",
       "Miss Dist.(lunar)               0\n",
       "Miss Dist.(kilometers)          0\n",
       "Miss Dist.(miles)               0\n",
       "Orbit ID                        0\n",
       "Orbit Uncertainity              0\n",
       "Minimum Orbit Intersection      0\n",
       "Jupiter Tisserand Invariant     0\n",
       "Epoch Osculation                0\n",
       "Eccentricity                    0\n",
       "Semi Major Axis                 0\n",
       "Inclination                     0\n",
       "Asc Node Longitude              0\n",
       "Orbital Period                  0\n",
       "Perihelion Distance             0\n",
       "Perihelion Arg                  0\n",
       "Aphelion Dist                   0\n",
       "Perihelion Time                 0\n",
       "Mean Anomaly                    0\n",
       "Mean Motion                     0\n",
       "Hazardous                       0\n",
       "dtype: int64"
      ]
     },
     "execution_count": 2,
     "metadata": {},
     "output_type": "execute_result"
    }
   ],
   "source": [
    "# to obtain the number of missing values in each column\n",
    "train.isnull().sum()"
   ]
  },
  {
   "cell_type": "code",
   "execution_count": 3,
   "id": "a0d50dde",
   "metadata": {
    "execution": {
     "iopub.execute_input": "2022-03-19T08:22:01.784665Z",
     "iopub.status.busy": "2022-03-19T08:22:01.784068Z",
     "iopub.status.idle": "2022-03-19T08:22:01.792259Z",
     "shell.execute_reply": "2022-03-19T08:22:01.792716Z",
     "shell.execute_reply.started": "2022-03-19T07:55:47.422324Z"
    },
    "papermill": {
     "duration": 0.024954,
     "end_time": "2022-03-19T08:22:01.792887",
     "exception": false,
     "start_time": "2022-03-19T08:22:01.767933",
     "status": "completed"
    },
    "tags": []
   },
   "outputs": [
    {
     "name": "stdout",
     "output_type": "stream",
     "text": [
      "1: Absolute Magnitude\n",
      "\n",
      "2: Est Dia in KM(min)\n",
      "\n",
      "3: Est Dia in KM(max)\n",
      "\n",
      "4: Est Dia in M(min)\n",
      "\n",
      "5: Est Dia in M(max)\n",
      "\n",
      "6: Est Dia in Miles(min)\n",
      "\n",
      "7: Est Dia in Miles(max)\n",
      "\n",
      "8: Est Dia in Feet(min)\n",
      "\n",
      "9: Est Dia in Feet(max)\n",
      "\n",
      "10: Relative Velocity km per sec\n",
      "\n",
      "11: Relative Velocity km per hr\n",
      "\n",
      "12: Miles per hour\n",
      "\n",
      "13: Miss Dist.(Astronomical)\n",
      "\n",
      "14: Miss Dist.(lunar)\n",
      "\n",
      "15: Miss Dist.(kilometers)\n",
      "\n",
      "16: Miss Dist.(miles)\n",
      "\n",
      "17: Orbit ID\n",
      "\n",
      "18: Orbit Uncertainity\n",
      "\n",
      "19: Minimum Orbit Intersection\n",
      "\n",
      "20: Jupiter Tisserand Invariant\n",
      "\n",
      "21: Epoch Osculation\n",
      "\n",
      "22: Eccentricity\n",
      "\n",
      "23: Semi Major Axis\n",
      "\n",
      "24: Inclination\n",
      "\n",
      "25: Asc Node Longitude\n",
      "\n",
      "26: Orbital Period\n",
      "\n",
      "27: Perihelion Distance\n",
      "\n",
      "28: Perihelion Arg\n",
      "\n",
      "29: Aphelion Dist\n",
      "\n",
      "30: Perihelion Time\n",
      "\n",
      "31: Mean Anomaly\n",
      "\n",
      "32: Mean Motion\n",
      "\n"
     ]
    }
   ],
   "source": [
    "# to list out the column name and number\n",
    "feature = train.columns\n",
    "feature = feature.drop(\"Hazardous\")\n",
    "for i, feat in enumerate(feature,1):\n",
    "    print(str(i) + \": \" + str(feat) + \"\\n\")"
   ]
  },
  {
   "cell_type": "code",
   "execution_count": 4,
   "id": "46e439d4",
   "metadata": {
    "execution": {
     "iopub.execute_input": "2022-03-19T08:22:01.817827Z",
     "iopub.status.busy": "2022-03-19T08:22:01.816879Z",
     "iopub.status.idle": "2022-03-19T08:22:02.340267Z",
     "shell.execute_reply": "2022-03-19T08:22:02.340714Z",
     "shell.execute_reply.started": "2022-03-19T07:52:46.255223Z"
    },
    "papermill": {
     "duration": 0.539131,
     "end_time": "2022-03-19T08:22:02.340880",
     "exception": false,
     "start_time": "2022-03-19T08:22:01.801749",
     "status": "completed"
    },
    "tags": []
   },
   "outputs": [
    {
     "data": {
      "text/plain": [
       "<AxesSubplot:>"
      ]
     },
     "execution_count": 4,
     "metadata": {},
     "output_type": "execute_result"
    },
    {
     "data": {
      "image/png": "[encoded data removed]",
      "text/plain": [
       "<Figure size 432x288 with 2 Axes>"
      ]
     },
     "metadata": {
      "needs_background": "light"
     },
     "output_type": "display_data"
    }
   ],
   "source": [
    "sns.heatmap(train.corr(), annot = False, cmap = \"YlGnBu\")"
   ]
  },
  {
   "cell_type": "code",
   "execution_count": 5,
   "id": "2ed479bf",
   "metadata": {
    "execution": {
     "iopub.execute_input": "2022-03-19T08:22:02.498929Z",
     "iopub.status.busy": "2022-03-19T08:22:02.371608Z",
     "iopub.status.idle": "2022-03-19T08:22:02.725181Z",
     "shell.execute_reply": "2022-03-19T08:22:02.724365Z",
     "shell.execute_reply.started": "2022-03-19T07:53:30.666416Z"
    },
    "papermill": {
     "duration": 0.373472,
     "end_time": "2022-03-19T08:22:02.725326",
     "exception": false,
     "start_time": "2022-03-19T08:22:02.351854",
     "status": "completed"
    },
    "tags": []
   },
   "outputs": [
    {
     "data": {
      "text/plain": [
       "<AxesSubplot:xlabel='Est Dia in KM(min)', ylabel='Est Dia in KM(max)'>"
      ]
     },
     "execution_count": 5,
     "metadata": {},
     "output_type": "execute_result"
    },
    {
     "data": {
      "image/png": "[encoded data removed]",
      "text/plain": [
       "<Figure size 432x288 with 1 Axes>"
      ]
     },
     "metadata": {
      "needs_background": "light"
     },
     "output_type": "display_data"
    }
   ],
   "source": [
    "sns.scatterplot(x = train[\"Est Dia in KM(min)\"], y = train[\"Est Dia in KM(max)\"])"
   ]
  },
  {
   "cell_type": "code",
   "execution_count": 6,
   "id": "f1af98e7",
   "metadata": {
    "execution": {
     "iopub.execute_input": "2022-03-19T08:22:02.752427Z",
     "iopub.status.busy": "2022-03-19T08:22:02.751544Z",
     "iopub.status.idle": "2022-03-19T08:22:03.315640Z",
     "shell.execute_reply": "2022-03-19T08:22:03.316082Z",
     "shell.execute_reply.started": "2022-03-19T08:05:12.351868Z"
    },
    "papermill": {
     "duration": 0.579209,
     "end_time": "2022-03-19T08:22:03.316269",
     "exception": false,
     "start_time": "2022-03-19T08:22:02.737060",
     "status": "completed"
    },
    "tags": []
   },
   "outputs": [],
   "source": [
    "# check on the mutual information between features\n",
    "from sklearn.feature_selection import mutual_info_classif\n",
    "x = train.copy()\n",
    "y = x.pop(\"Hazardous\")\n",
    "\n",
    "discrete_features = x.dtypes == int\n",
    "\n",
    "def mi(x,y,discrete_features):\n",
    "    mi_score = mutual_info_classif(x,y,discrete_features=discrete_features)\n",
    "    mi_score = pd.Series(mi_score, name = \"Mutual Information\", index = x.columns)\n",
    "    mi_score = mi_score.sort_values(ascending = False)\n",
    "    return mi_score\n",
    "\n",
    "mi_score = mi(x,y,discrete_features)"
   ]
  },
  {
   "cell_type": "code",
   "execution_count": 7,
   "id": "eb6c6d2c",
   "metadata": {
    "execution": {
     "iopub.execute_input": "2022-03-19T08:22:03.343219Z",
     "iopub.status.busy": "2022-03-19T08:22:03.342618Z",
     "iopub.status.idle": "2022-03-19T08:22:03.779725Z",
     "shell.execute_reply": "2022-03-19T08:22:03.779266Z",
     "shell.execute_reply.started": "2022-03-19T08:11:11.947578Z"
    },
    "papermill": {
     "duration": 0.451686,
     "end_time": "2022-03-19T08:22:03.779862",
     "exception": false,
     "start_time": "2022-03-19T08:22:03.328176",
     "status": "completed"
    },
    "tags": []
   },
   "outputs": [
    {
     "data": {
      "text/plain": [
       "<AxesSubplot:xlabel='Mutual Information'>"
      ]
     },
     "execution_count": 7,
     "metadata": {},
     "output_type": "execute_result"
    },
    {
     "data": {
      "image/png": "[encoded data removed]",
      "text/plain": [
       "<Figure size 432x288 with 1 Axes>"
      ]
     },
     "metadata": {
      "needs_background": "light"
     },
     "output_type": "display_data"
    }
   ],
   "source": [
    "# visualize mutual information\n",
    "sns.barplot(y=feature,x=mi_score)"
   ]
  },
  {
   "cell_type": "code",
   "execution_count": null,
   "id": "22f3a090",
   "metadata": {
    "papermill": {
     "duration": 0.013091,
     "end_time": "2022-03-19T08:22:03.806482",
     "exception": false,
     "start_time": "2022-03-19T08:22:03.793391",
     "status": "completed"
    },
    "tags": []
   },
   "outputs": [],
   "source": []
  }
 ],
 "metadata": {
  "kernelspec": {
   "display_name": "Python 3",
   "language": "python",
   "name": "python3"
  },
  "language_info": {
   "codemirror_mode": {
    "name": "ipython",
    "version": 3
   },
   "file_extension": ".py",
   "mimetype": "text/x-python",
   "name": "python",
   "nbconvert_exporter": "python",
   "pygments_lexer": "ipython3",
   "version": "3.7.12"
  },
  "papermill": {
   "default_parameters": {},
   "duration": 13.416668,
   "end_time": "2022-03-19T08:22:04.632615",
   "environment_variables": {},
   "exception": null,
   "input_path": "__notebook__.ipynb",
   "output_path": "__notebook__.ipynb",
   "parameters": {},
   "start_time": "2022-03-19T08:21:51.215947",
   "version": "2.3.3"
  }
 },
 "nbformat": 4,
 "nbformat_minor": 5
}
