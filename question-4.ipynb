{
 "cells": [
  {
   "cell_type": "markdown",
   "id": "3b06aa9b",
   "metadata": {
    "papermill": {
     "duration": 0.011362,
     "end_time": "2022-03-23T14:44:09.629110",
     "exception": false,
     "start_time": "2022-03-23T14:44:09.617748",
     "status": "completed"
    },
    "tags": []
   },
   "source": [
    "4)\tABC is an online advertisement firm, the management found adblocker used by the users is affecting the revenue. The firm has invested significantly to distribute custom adblock whitelists. Below is the table showing the number of sample adblock detected before the distribution of the first 3 months (12 weeks) and the next 3 months after the whitelist has been distributed. (Ideally use jupyter notebook)\n",
    "\n",
    "# Table 1: Before Distribution\n",
    "|Week | 1 | 2 | 3 | 4 | 5 | 6 | 7 | 8 | 9 | 10 | 11 | 12 |\n",
    "|-----|----|----|----|----|----|----|----|----|----|----|----|----|\n",
    "|Count| 3100 | 2800 | 1900 | 2400 | 3200 | 2700 | 1600 | 4100 | 2300 | 3200 | 2900 | 3300 |\n",
    "\n",
    "\n",
    "# Table 2: After Distribution\n",
    "|Week | 13 | 14 | 15 | 16 | 17 | 18 | 19 | 20 | 21 | 22 | 23 | 24 |\n",
    "|-----|----|----|----|----|----|----|----|----|----|----|----|----|\n",
    "|Count| 2300 | 2100 | 1900 | 2400 | 3500 | 1700 | 1800 | 2400 | 3300 | 2700 | 2100 | 2300 |\n",
    "\n",
    "a)\tConvert the above information into a numpy array and compute the average difference between the first table and the second table.\n",
    "\n",
    "b)\tCould the difference legit and not due to chance? Use a statistical approach to demonstrate your assumptions.\n",
    "\n",
    "c)\tBecause the firm already spent vast amounts of money, is the difference in the number of adblocker detected for the next 3 months statistically significant and worth the investment? You may provide your opinion here.\n",
    "\n",
    "d)\tWhat’s the confidence intervals of the average difference? You may use 90% or 95% percentile for confidence intervals, state this percentile in the solution.\n"
   ]
  },
  {
   "cell_type": "markdown",
   "id": "7cf31515",
   "metadata": {
    "papermill": {
     "duration": 0.00936,
     "end_time": "2022-03-23T14:44:09.648816",
     "exception": false,
     "start_time": "2022-03-23T14:44:09.639456",
     "status": "completed"
    },
    "tags": []
   },
   "source": [
    "---\n",
    "# **ANSWER**\n",
    "\n",
    "---\n",
    "a)\tConvert the above information into a numpy array and compute the average difference between the first table and the second table.\n",
    "\n"
   ]
  },
  {
   "cell_type": "code",
   "execution_count": 1,
   "id": "4a735a3e",
   "metadata": {
    "execution": {
     "iopub.execute_input": "2022-03-23T14:44:09.668366Z",
     "iopub.status.busy": "2022-03-23T14:44:09.666624Z",
     "iopub.status.idle": "2022-03-23T14:44:09.678455Z",
     "shell.execute_reply": "2022-03-23T14:44:09.679053Z",
     "shell.execute_reply.started": "2022-03-23T13:44:40.412328Z"
    },
    "papermill": {
     "duration": 0.023536,
     "end_time": "2022-03-23T14:44:09.679418",
     "exception": false,
     "start_time": "2022-03-23T14:44:09.655882",
     "status": "completed"
    },
    "tags": []
   },
   "outputs": [],
   "source": [
    "import numpy as np\n",
    "import pandas as pd\n",
    "\n",
    "before = np.array([3100,2800,1900,2400,3200,2700,1600,4100,2300,3200,2900,3300]) # table 1\n",
    "after = np.array([2300,2100,1900,2400,3500,1700,1800,2400,3300,2700,2100,2300]) # table 2"
   ]
  },
  {
   "cell_type": "code",
   "execution_count": 2,
   "id": "ac8ff26a",
   "metadata": {
    "execution": {
     "iopub.execute_input": "2022-03-23T14:44:09.695770Z",
     "iopub.status.busy": "2022-03-23T14:44:09.694685Z",
     "iopub.status.idle": "2022-03-23T14:44:09.701490Z",
     "shell.execute_reply": "2022-03-23T14:44:09.702038Z",
     "shell.execute_reply.started": "2022-03-23T13:45:07.129805Z"
    },
    "papermill": {
     "duration": 0.016833,
     "end_time": "2022-03-23T14:44:09.702240",
     "exception": false,
     "start_time": "2022-03-23T14:44:09.685407",
     "status": "completed"
    },
    "tags": []
   },
   "outputs": [
    {
     "name": "stdout",
     "output_type": "stream",
     "text": [
      "Average Difference Between The First Table and The Second Table: 416.67\n"
     ]
    }
   ],
   "source": [
    "# computing the average of 2 tables\n",
    "\n",
    "avg_before = np.average(before)\n",
    "avg_after = np.average(after)\n",
    "\n",
    "# print the difference as 2 decimal places\n",
    "print(\"Average Difference Between The First Table and The Second Table: \" + str(round(avg_before - avg_after,2)))"
   ]
  },
  {
   "cell_type": "markdown",
   "id": "227cd75d",
   "metadata": {
    "papermill": {
     "duration": 0.005912,
     "end_time": "2022-03-23T14:44:09.714720",
     "exception": false,
     "start_time": "2022-03-23T14:44:09.708808",
     "status": "completed"
    },
    "tags": []
   },
   "source": [
    "Average Difference Between The First Table and The Second Table: **416.67**\n",
    "\n",
    "---\n",
    "b) Could the difference legit and not due to chance? Use a statistical approach to demonstrate your assumptions.\n",
    "\n",
    "\n",
    "To establish statistical significance we have to come up with a ***null hypothesis*** and an ***alternative hypothesis***. A ***null hypothesis*** is where the variable has no impact on our end result. The ***alternative hypothesis*** is where the variable does have an impact on the end result.\n",
    "\n",
    "For this problem, the null and alternative hypothesis are:\n",
    "\n",
    "* Null Hypothesis, $H_{0}$ : The average difference of sample adblock detected after the custom adblock whitelist distribution is the same as before distribution (i.e.: the average difference, mean = 0).\n",
    "\n",
    "* Alternative Hypothesis, $H_{1}$ : The average difference of sample adblock detected after the custom adblock whitelist distribution increases distribution (mean > 0).\n",
    "\n",
    "Approach:\n",
    "* Significance level of 0.05 (5%) is chosen as the common standard for hypothesis testings.\n",
    "* T-test (one-tailed)\n",
    "\n",
    "T-test (one-tailed) is chosen because:\n",
    "* The question is dealing with determining whether a solution has effect on the population of interest.\n",
    "* We are comparing the means of 2 groups.\n",
    "* The sample size, n is small (n < 30)\n",
    "* We are only concerned with the increase of average difference."
   ]
  },
  {
   "cell_type": "code",
   "execution_count": 3,
   "id": "e11a9945",
   "metadata": {
    "execution": {
     "iopub.execute_input": "2022-03-23T14:44:09.731555Z",
     "iopub.status.busy": "2022-03-23T14:44:09.730505Z",
     "iopub.status.idle": "2022-03-23T14:44:10.755089Z",
     "shell.execute_reply": "2022-03-23T14:44:10.754405Z",
     "shell.execute_reply.started": "2022-03-23T14:29:45.638366Z"
    },
    "papermill": {
     "duration": 1.034066,
     "end_time": "2022-03-23T14:44:10.755274",
     "exception": false,
     "start_time": "2022-03-23T14:44:09.721208",
     "status": "completed"
    },
    "tags": []
   },
   "outputs": [
    {
     "name": "stdout",
     "output_type": "stream",
     "text": [
      "2-tailed p-value= 0.08\n",
      "1-tailed p-value= 0.04\n"
     ]
    }
   ],
   "source": [
    "from scipy.stats import ttest_1samp\n",
    "stats,p_value = ttest_1samp(before - after, popmean = 0)\n",
    "print(\"2-tailed p-value= \" + str(round(p_value,2)))\n",
    "print(\"1-tailed p-value= \" + str(round(p_value/2,2)))"
   ]
  },
  {
   "cell_type": "markdown",
   "id": "02050ca5",
   "metadata": {
    "papermill": {
     "duration": 0.006332,
     "end_time": "2022-03-23T14:44:10.768439",
     "exception": false,
     "start_time": "2022-03-23T14:44:10.762107",
     "status": "completed"
    },
    "tags": []
   },
   "source": [
    "Intepretation:\n",
    "\n",
    "$p-value\\ \\  (0.04) < 0.05$ are satistically significant ($H_{0}$ is rejected, $H_{1}$ is accepted).\n",
    "\n",
    "Therefore, the difference is ***not due to chance*** (randomness) with confidence interval of 95% (1-significance level).\n",
    "\n",
    "---\n",
    "c) Because the firm already spent vast amounts of money, is the difference in the number of adblocker detected for the next 3 months statistically significant and worth the investment? You may provide your opinion here.\n",
    "\n",
    "\n",
    "As answered in the previous question, the average difference in the number of adblocker detected is ***statistically significant***. However, the approach of analysing collected data (provided) week by week for this hypothesis testing ***overlooked the effect of seasonality***. I would suggest comparing the average difference before and after distribution during same or similar season.\n",
    "\n",
    "---\n",
    "d) What’s the confidence intervals of the average difference? You may use 90% or 95% percentile for confidence intervals, state this percentile in the solution.\n",
    "\n",
    "\n",
    "The confidence interval of the average difference for this question is $95\\%$.\n",
    "\n",
    "---"
   ]
  }
 ],
 "metadata": {
  "kernelspec": {
   "display_name": "Python 3",
   "language": "python",
   "name": "python3"
  },
  "language_info": {
   "codemirror_mode": {
    "name": "ipython",
    "version": 3
   },
   "file_extension": ".py",
   "mimetype": "text/x-python",
   "name": "python",
   "nbconvert_exporter": "python",
   "pygments_lexer": "ipython3",
   "version": "3.7.12"
  },
  "papermill": {
   "default_parameters": {},
   "duration": 11.351129,
   "end_time": "2022-03-23T14:44:11.789051",
   "environment_variables": {},
   "exception": null,
   "input_path": "__notebook__.ipynb",
   "output_path": "__notebook__.ipynb",
   "parameters": {},
   "start_time": "2022-03-23T14:44:00.437922",
   "version": "2.3.3"
  }
 },
 "nbformat": 4,
 "nbformat_minor": 5
}
